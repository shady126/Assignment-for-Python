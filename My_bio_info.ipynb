{
  "nbformat": 4,
  "nbformat_minor": 0,
  "metadata": {
    "colab": {
      "provenance": [],
      "authorship_tag": "ABX9TyMQCzNFvtI1QO/iYC0zc3OV",
      "include_colab_link": true
    },
    "kernelspec": {
      "name": "python3",
      "display_name": "Python 3"
    },
    "language_info": {
      "name": "python"
    }
  },
  "cells": [
    {
      "cell_type": "markdown",
      "metadata": {
        "id": "view-in-github",
        "colab_type": "text"
      },
      "source": [
        "<a href=\"https://colab.research.google.com/github/shady126/Assignment-for-Python/blob/main/My_bio_info.ipynb\" target=\"_parent\"><img src=\"https://colab.research.google.com/assets/colab-badge.svg\" alt=\"Open In Colab\"/></a>"
      ]
    },
    {
      "cell_type": "code",
      "execution_count": 15,
      "metadata": {
        "colab": {
          "base_uri": "https://localhost:8080/"
        },
        "id": "fvWhJkBPodhQ",
        "outputId": "6114a960-32a2-472b-ec57-6e5aaacff5a6"
      },
      "outputs": [
        {
          "output_type": "stream",
          "name": "stdout",
          "text": [
            "My Name is Oloyede Kolawole Afeez\n",
            "My Age is 27\n",
            "My Education is Bsc in Computer Science from Uniosun\n",
            "My Skills are:\n",
            "- PYTHON\n",
            "- HTML\n",
            "- CSS\n",
            "- JAVASCRIPT\n",
            "My Occupation is Computer hardware and Software Repair\n",
            "My Location is Ogun state\n"
          ]
        }
      ],
      "source": [
        "#Creating a dictionary that contains my basic bio info, with must have property of skills which is a list of my skills\n",
        "\n",
        "My_bio_info = {\n",
        "    'Name' : 'Oloyede Kolawole Afeez',\n",
        "    'Age' : 27,\n",
        "    'Education' : 'Bsc in Computer Science from Uniosun',\n",
        "    'Skills' : ['PYTHON', 'HTML', 'CSS', 'JAVASCRIPT'],\n",
        "    'Occupation' : 'Computer hardware and Software Repair',\n",
        "    'Location' : 'Ogun state'\n",
        "}\n",
        "#Looping through my bio dict and print the key and values to stdout, for skills, Make Skills as an heading and print all the skills out too.\n",
        "for key, value in My_bio_info.items():\n",
        "  if key == 'Skills':\n",
        "    print(f'My Skills are:')\n",
        "    for skill in value:\n",
        "            print(f\"- {skill}\")\n",
        "  else:\n",
        "    print(f'My {key} is {value}')"
      ]
    },
    {
      "cell_type": "code",
      "source": [],
      "metadata": {
        "id": "ZniIbR-nNG-S"
      },
      "execution_count": null,
      "outputs": []
    }
  ]
}